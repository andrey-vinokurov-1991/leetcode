{
 "cells": [
  {
   "cell_type": "markdown",
   "metadata": {},
   "source": [
    "Write a function to find the longest common prefix string amongst an array of strings.\n",
    "\n",
    "If there is no common prefix, return an empty string `\"\"`.\n",
    "\n",
    "**Constraints:**\n",
    "\n",
    "* `1 <= strs.length <= 200`\n",
    "* `0 <= strs[i].length <= 200`\n",
    "* `strs[i]` consists of only lowercase English letters."
   ]
  },
  {
   "cell_type": "markdown",
   "metadata": {},
   "source": [
    "**Example 1:**\n",
    "> **Input:** strs = [\"flower\",\"flow\",\"flight\"]  \n",
    "**Output:** \"fl\"  \n",
    "\n",
    "**Example 2:**\n",
    "> **Input:** strs = [\"dog\",\"racecar\",\"car\"]  \n",
    "**Output:** \"\"  \n",
    "**Explanation:** There is no common prefix among the input strings."
   ]
  },
  {
   "cell_type": "code",
   "execution_count": 16,
   "metadata": {},
   "outputs": [
    {
     "data": {
      "text/plain": [
       "defaultdict(dict,\n",
       "            {'1': {'input_strs': ['flower', 'flow', 'flight'],\n",
       "              'expected_output': 'fl'},\n",
       "             '2': {'input_strs': ['dog', 'racecar', 'car'],\n",
       "              'expected_output': ''}})"
      ]
     },
     "execution_count": 16,
     "metadata": {},
     "output_type": "execute_result"
    }
   ],
   "source": [
    "from typing import List\n",
    "\n",
    "from collections import defaultdict\n",
    "from copy import deepcopy\n",
    "\n",
    "cases = defaultdict(dict)\n",
    "\n",
    "cases[\"1\"][\"input_strs\"] = [\"flower\",\"flow\",\"flight\"]  \n",
    "cases[\"1\"][\"expected_output\"] = \"fl\"\n",
    "\n",
    "cases[\"2\"][\"input_strs\"] = [\"dog\",\"racecar\",\"car\"]  \n",
    "cases[\"2\"][\"expected_output\"] = \"\"\n",
    "cases"
   ]
  },
  {
   "cell_type": "markdown",
   "metadata": {},
   "source": [
    "**Solution_0 idea**  \n",
    "To use nested loops and compare letters one by one."
   ]
  },
  {
   "cell_type": "code",
   "execution_count": 17,
   "metadata": {},
   "outputs": [],
   "source": [
    "class Solution_0:\n",
    "    def longestCommonPrefix(self, strs: List[str]) -> str:\n",
    "        min_length = min([len(string) for string in strs])\n",
    "        prefix = \"\"\n",
    "        for i in range(min_length):\n",
    "            i_char = strs[0][i]\n",
    "            adding_i_char = True\n",
    "            for string in strs[1:]:\n",
    "                if i_char != string[i]:\n",
    "                    adding_i_char = False\n",
    "                    break\n",
    "            if adding_i_char:\n",
    "                prefix += i_char\n",
    "            else:\n",
    "                break\n",
    "        return prefix\n"
   ]
  },
  {
   "cell_type": "code",
   "execution_count": 18,
   "metadata": {},
   "outputs": [
    {
     "name": "stdout",
     "output_type": "stream",
     "text": [
      "case #1\n",
      "input s: ['flower', 'flow', 'flight']\n",
      "expected output: fl\n",
      "output for solution #0: fl\n",
      "\n",
      "case #2\n",
      "input s: ['dog', 'racecar', 'car']\n",
      "expected output: \n",
      "output for solution #0: \n",
      "\n"
     ]
    }
   ],
   "source": [
    "solution_0 = Solution_0()\n",
    "\n",
    "for case_id, case in cases.items():\n",
    "    input_strs = case[\"input_strs\"]\n",
    "    expected_output = case[\"expected_output\"]\n",
    "\n",
    "    input_s_0 = deepcopy(input_strs)\n",
    "    result_0 = solution_0.longestCommonPrefix(input_s_0)\n",
    "\n",
    "    print(f\"case #{case_id}\")\n",
    "    print(f\"input s: {input_strs}\")\n",
    "    print(f\"expected output: {expected_output}\")\n",
    "    print(f\"output for solution #0: {result_0}\")\n",
    "    \n",
    "    print(f\"\")"
   ]
  }
 ],
 "metadata": {
  "kernelspec": {
   "display_name": ".venv",
   "language": "python",
   "name": "python3"
  },
  "language_info": {
   "codemirror_mode": {
    "name": "ipython",
    "version": 3
   },
   "file_extension": ".py",
   "mimetype": "text/x-python",
   "name": "python",
   "nbconvert_exporter": "python",
   "pygments_lexer": "ipython3",
   "version": "3.10.12"
  }
 },
 "nbformat": 4,
 "nbformat_minor": 2
}
