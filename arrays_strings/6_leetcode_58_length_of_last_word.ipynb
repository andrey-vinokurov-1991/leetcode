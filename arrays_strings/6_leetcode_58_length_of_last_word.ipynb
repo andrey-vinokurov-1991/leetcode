{
 "cells": [
  {
   "cell_type": "markdown",
   "metadata": {},
   "source": [
    "Given a string `s` consisting of words and spaces, return *the length of the **last** word in the string*.\n",
    "\n",
    "A **word** is a maximal **substring** consisting of non-space characters only.\n",
    "\n",
    "**Constraints:**\n",
    "\n",
    "* `1 <= s.length <= 104`\n",
    "* `s` consists of only English letters and spaces `' '`.\n",
    "* There will be at least one word in `s`."
   ]
  },
  {
   "cell_type": "markdown",
   "metadata": {},
   "source": [
    "**Example 1:**  \n",
    "> **Input:** s = \"Hello World\"  \n",
    "**Output:** 5  \n",
    "**Explanation:** The last word is \"World\" with length 5.  \n",
    "\n",
    "**Example 2:**  \n",
    "> **Input:** s = \"   fly me   to   the moon  \"  \n",
    "**Output:** 4  \n",
    "**Explanation:** The last word is \"moon\" with length 4.  \n",
    "\n",
    "**Example 3:**  \n",
    "> **Input:** s = \"luffy is still joyboy\"  \n",
    "**Output:** 6  \n",
    "**Explanation:** The last word is \"joyboy\" with length 6.  "
   ]
  },
  {
   "cell_type": "code",
   "execution_count": 1,
   "metadata": {},
   "outputs": [
    {
     "data": {
      "text/plain": [
       "defaultdict(dict,\n",
       "            {'1': {'input_s': 'Hello World', 'expected_output': 5},\n",
       "             '2': {'input_s': '   fly me   to   the moon  ',\n",
       "              'expected_output': 4},\n",
       "             '3': {'input_s': 'luffy is still joyboy', 'expected_output': 6}})"
      ]
     },
     "execution_count": 1,
     "metadata": {},
     "output_type": "execute_result"
    }
   ],
   "source": [
    "from collections import defaultdict\n",
    "from copy import deepcopy\n",
    "\n",
    "cases = defaultdict(dict)\n",
    "\n",
    "cases[\"1\"][\"input_s\"] = \"Hello World\"\n",
    "cases[\"1\"][\"expected_output\"] = 5\n",
    "\n",
    "cases[\"2\"][\"input_s\"] = \"   fly me   to   the moon  \"\n",
    "cases[\"2\"][\"expected_output\"] = 4\n",
    "\n",
    "cases[\"3\"][\"input_s\"] = \"luffy is still joyboy\"\n",
    "cases[\"3\"][\"expected_output\"] = 6\n",
    "\n",
    "cases"
   ]
  },
  {
   "cell_type": "markdown",
   "metadata": {},
   "source": [
    "**Solution_0 idea**  \n",
    "To use python strint splitting with stripping."
   ]
  },
  {
   "cell_type": "code",
   "execution_count": 2,
   "metadata": {},
   "outputs": [],
   "source": [
    "class Solution_0:\n",
    "    def lengthOfLastWord(self, s: str) -> int:\n",
    "        return len(s.strip().split(\" \")[-1])"
   ]
  },
  {
   "cell_type": "markdown",
   "metadata": {},
   "source": [
    "**Solution_0 idea**  \n",
    "To find the first space from the end of the string and count letters before it."
   ]
  },
  {
   "cell_type": "code",
   "execution_count": 3,
   "metadata": {},
   "outputs": [],
   "source": [
    "class Solution_1:\n",
    "    def lengthOfLastWord(self, s: str) -> int:\n",
    "        length_of_last_word = 0\n",
    "        for c in reversed(s):\n",
    "            if c == \" \":\n",
    "                if length_of_last_word != 0:\n",
    "                    break\n",
    "            else:\n",
    "                length_of_last_word += 1\n",
    "        return length_of_last_word"
   ]
  },
  {
   "cell_type": "code",
   "execution_count": 4,
   "metadata": {},
   "outputs": [
    {
     "name": "stdout",
     "output_type": "stream",
     "text": [
      "case #1\n",
      "input s: Hello World\n",
      "expected output: 5\n",
      "output for solution #0: 5\n",
      "output for solution #1: 5\n",
      "\n",
      "case #2\n",
      "input s:    fly me   to   the moon  \n",
      "expected output: 4\n",
      "output for solution #0: 4\n",
      "output for solution #1: 4\n",
      "\n",
      "case #3\n",
      "input s: luffy is still joyboy\n",
      "expected output: 6\n",
      "output for solution #0: 6\n",
      "output for solution #1: 6\n",
      "\n"
     ]
    }
   ],
   "source": [
    "solution_0 = Solution_0()\n",
    "solution_1 = Solution_1()\n",
    "\n",
    "\n",
    "for case_id, case in cases.items():\n",
    "    input_s = case[\"input_s\"]\n",
    "    expected_output = case[\"expected_output\"]\n",
    "\n",
    "    input_s_0 = deepcopy(input_s)\n",
    "    result_0 = solution_0.lengthOfLastWord(input_s_0)\n",
    "    input_s_1 = deepcopy(input_s)\n",
    "    result_1 = solution_1.lengthOfLastWord(input_s_1)\n",
    "\n",
    "\n",
    "    print(f\"case #{case_id}\")\n",
    "    print(f\"input s: {input_s}\")\n",
    "    print(f\"expected output: {expected_output}\")\n",
    "    print(f\"output for solution #0: {result_0}\")\n",
    "    print(f\"output for solution #1: {result_1}\")\n",
    "\n",
    "    \n",
    "    print(f\"\")"
   ]
  }
 ],
 "metadata": {
  "kernelspec": {
   "display_name": ".venv",
   "language": "python",
   "name": "python3"
  },
  "language_info": {
   "codemirror_mode": {
    "name": "ipython",
    "version": 3
   },
   "file_extension": ".py",
   "mimetype": "text/x-python",
   "name": "python",
   "nbconvert_exporter": "python",
   "pygments_lexer": "ipython3",
   "version": "3.10.12"
  }
 },
 "nbformat": 4,
 "nbformat_minor": 2
}
