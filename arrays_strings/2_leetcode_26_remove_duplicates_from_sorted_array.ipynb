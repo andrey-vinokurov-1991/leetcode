{
 "cells": [
  {
   "cell_type": "markdown",
   "metadata": {},
   "source": [
    "Given an integer array `nums` sorted in **non-decreasing order**, remove the duplicates **in-place** such that each unique element appears only once. The **relative order** of the elements should be kept the **same**. Then return *the number of unique elements in* `nums`.\n",
    "\n",
    "Consider the number of unique elements of `nums` to be `k`, to get accepted, you need to do the following things:\n",
    "\n",
    "* Change the array `nums` such that the first `k` elements of nums contain the unique elements in the order they were present in `nums` initially. The remaining elements of `nums` are not important as well as the size of `nums`.\n",
    "* Return `k`.\n",
    "\n",
    "**Custom Judge:**\n",
    "\n",
    "The judge will test your solution with the following code:\n",
    "\n",
    "> int[] nums = [...]; // Input array\n",
    "int[] expectedNums = [...]; // The expected answer with correct length\n",
    "> \n",
    "> int k = removeDuplicates(nums); // Calls your implementation\n",
    "> \n",
    "> assert k == expectedNums.length;\n",
    "for (int i = 0; i < k; i++) {\n",
    "    assert nums[i] == expectedNums[i];\n",
    "}\n",
    "\n",
    "If all assertions pass, then your solution will be **accepted**.\n",
    "\n",
    "**Constraints:**\n",
    "\n",
    "* `1 <= nums.length <= 3 * 104`\n",
    "* `-100 <= nums[i] <= 100`\n",
    "* `nums` is sorted in **non-decreasing** order."
   ]
  },
  {
   "cell_type": "markdown",
   "metadata": {},
   "source": [
    "**Example 1:**\n",
    "\n",
    "> **Input:** nums = [1,1,2]  \n",
    "**Output:** 2, nums = [1,2,_]  \n",
    "**Explanation:** Your function should return k = 2, with the first two elements of nums being 1 and 2 respectively.\n",
    "It does not matter what you leave beyond the returned k (hence they are underscores).  \n",
    "\n",
    "> **Example 2:**\n",
    "**Input:** nums = [0,0,1,1,1,2,2,3,3,4]  \n",
    "**Output:** 5, nums = [0,1,2,3,4,_,_,_,_,_]  \n",
    "**Explanation:** Your function should return k = 5, with the first five elements of nums being 0, 1, 2, 3, and 4 respectively.\n",
    "It does not matter what you leave beyond the returned k (hence they are underscores).\n"
   ]
  },
  {
   "cell_type": "code",
   "execution_count": 8,
   "metadata": {},
   "outputs": [
    {
     "data": {
      "text/plain": [
       "defaultdict(dict,\n",
       "            {'1': {'nums': [1, 1, 2],\n",
       "              'expected_output_nums': [1, 2, -100000000000.0],\n",
       "              'expected_output_k': 2},\n",
       "             '2': {'nums': [0, 0, 1, 1, 1, 2, 2, 3, 3, 4],\n",
       "              'expected_output_nums': [0,\n",
       "               1,\n",
       "               2,\n",
       "               3,\n",
       "               4,\n",
       "               -100000000000.0,\n",
       "               -100000000000.0,\n",
       "               -100000000000.0,\n",
       "               -100000000000.0,\n",
       "               -100000000000.0],\n",
       "              'expected_output_k': 5}})"
      ]
     },
     "execution_count": 8,
     "metadata": {},
     "output_type": "execute_result"
    }
   ],
   "source": [
    "from typing import List\n",
    "\n",
    "from collections import defaultdict\n",
    "from copy import deepcopy\n",
    "\n",
    "cases = defaultdict(dict)\n",
    "_ = -10e10\n",
    "\n",
    "cases[\"1\"][\"nums\"] = [1,1,2]\n",
    "cases[\"1\"][\"expected_output_nums\"] = [1,2,_]\n",
    "cases[\"1\"][\"expected_output_k\"] = 2 \n",
    "\n",
    "\n",
    "cases[\"2\"][\"nums\"] = [0,0,1,1,1,2,2,3,3,4]\n",
    "cases[\"2\"][\"expected_output_nums\"] = [0,1,2,3,4,_,_,_,_,_]\n",
    "cases[\"2\"][\"expected_output_k\"] = 5\n",
    "\n",
    "cases"
   ]
  },
  {
   "cell_type": "code",
   "execution_count": 9,
   "metadata": {},
   "outputs": [],
   "source": [
    "def judge(expected_nums, nums, expected_k, k):\n",
    "    assert k == expected_k \n",
    "    nums_k_sorted = sorted(nums[:k])\n",
    "    expected_nums_k_sorted = sorted(nums[:k])\n",
    "    assert nums_k_sorted == expected_nums_k_sorted\n",
    "    return True"
   ]
  },
  {
   "cell_type": "markdown",
   "metadata": {},
   "source": [
    "**Solution_0 idea**  \n",
    "Firstly, it is nice to have easy solution even if it is not optimal. Using `set()` duplicates have been excluded and sorted using `sorted()`."
   ]
  },
  {
   "cell_type": "code",
   "execution_count": 10,
   "metadata": {},
   "outputs": [],
   "source": [
    "class Solution_0:\n",
    "    def removeDuplicates(self, nums: List[int]) -> int:\n",
    "        nums_set = set(nums)\n",
    "        k = len(nums_set)\n",
    "        nums[:] = sorted(list(nums_set))\n",
    "        return k   "
   ]
  },
  {
   "cell_type": "markdown",
   "metadata": {},
   "source": [
    "**Solution_1 idea**  \n",
    "To avoid overthinking on corner cases the solutions for `len(nums) == 0` and for `len(nums) == 1` have been solved first.  \n",
    "The main idea is to have two pointers where the first one for replacing and the second one for searching dublicates."
   ]
  },
  {
   "cell_type": "code",
   "execution_count": 11,
   "metadata": {},
   "outputs": [],
   "source": [
    "class Solution_1: \n",
    "    def removeDuplicates(self, nums: List[int]) -> int:\n",
    "        len_nums = len(nums)\n",
    "        if not len_nums:\n",
    "            return 0\n",
    "        if len_nums == 1:\n",
    "            return 1\n",
    "\n",
    "        k = len(nums)\n",
    "        pointer_1, pointer_2 = 0, 1\n",
    "        while pointer_2 <= len_nums - 1:\n",
    "            value_1, value_2 = nums[pointer_1], nums[pointer_2]\n",
    "            if value_1 >= value_2:\n",
    "                pointer_2 += 1\n",
    "                k -= 1\n",
    "            else:\n",
    "                if pointer_2 - pointer_1 == 1:\n",
    "                    pointer_1 += 1\n",
    "                    pointer_2 += 1\n",
    "                else:\n",
    "                    pointer_1 += 1\n",
    "                    pointer_2 += 1\n",
    "                    nums[pointer_1] = value_2\n",
    "\n",
    "        return k\n"
   ]
  },
  {
   "cell_type": "code",
   "execution_count": 12,
   "metadata": {},
   "outputs": [
    {
     "name": "stdout",
     "output_type": "stream",
     "text": [
      "case #1\n",
      "expected output nums: [1, 2, -100000000000.0]\n",
      "expected output k: 2\n",
      "output nums for solution #0: [1, 2]\n",
      "output k for solution #0: 2\n",
      "output nums for solution #1: [1, 2, 2]\n",
      "output k for solution #1: 2\n",
      "judge passed for solution #0: True\n",
      "judge passed for solution #1: True\n",
      "\n",
      "case #2\n",
      "expected output nums: [0, 1, 2, 3, 4, -100000000000.0, -100000000000.0, -100000000000.0, -100000000000.0, -100000000000.0]\n",
      "expected output k: 5\n",
      "output nums for solution #0: [0, 1, 2, 3, 4]\n",
      "output k for solution #0: 5\n",
      "output nums for solution #1: [0, 1, 2, 3, 4, 2, 2, 3, 3, 4]\n",
      "output k for solution #1: 5\n",
      "judge passed for solution #0: True\n",
      "judge passed for solution #1: True\n",
      "\n"
     ]
    }
   ],
   "source": [
    "solution_0 = Solution_0()\n",
    "solution_1 = Solution_1()\n",
    "\n",
    "\n",
    "for case_id, case in cases.items():\n",
    "    nums = case[\"nums\"]\n",
    "    expected_output_nums = case[\"expected_output_nums\"]\n",
    "    expected_output_k = case[\"expected_output_k\"]\n",
    "\n",
    "    nums_0 = deepcopy(nums)\n",
    "    result_0 = solution_0.removeDuplicates(nums_0)\n",
    "    nums_1 = deepcopy(nums)\n",
    "    result_1 = solution_1.removeDuplicates(nums_1)\n",
    "\n",
    "    print(f\"case #{case_id}\")\n",
    "    print(f\"expected output nums: {expected_output_nums}\")\n",
    "    print(f\"expected output k: {expected_output_k}\")\n",
    "    print(f\"output nums for solution #0: {nums_0}\")\n",
    "    print(f\"output k for solution #0: {result_0}\")\n",
    "    print(f\"output nums for solution #1: {nums_1}\")\n",
    "    print(f\"output k for solution #1: {result_1}\")\n",
    "\n",
    "    print(f\"judge passed for solution #0: {judge(expected_output_nums, nums_0, expected_output_k, result_0)}\")\n",
    "    print(f\"judge passed for solution #1: {judge(expected_output_nums, nums_1, expected_output_k, result_1)}\")\n",
    "    \n",
    "    print(f\"\")"
   ]
  }
 ],
 "metadata": {
  "kernelspec": {
   "display_name": ".venv",
   "language": "python",
   "name": "python3"
  },
  "language_info": {
   "codemirror_mode": {
    "name": "ipython",
    "version": 3
   },
   "file_extension": ".py",
   "mimetype": "text/x-python",
   "name": "python",
   "nbconvert_exporter": "python",
   "pygments_lexer": "ipython3",
   "version": "3.10.12"
  }
 },
 "nbformat": 4,
 "nbformat_minor": 2
}
