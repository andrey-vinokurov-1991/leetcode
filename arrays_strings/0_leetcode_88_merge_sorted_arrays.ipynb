{
 "cells": [
  {
   "cell_type": "markdown",
   "metadata": {},
   "source": [
    "You are given two integer arrays `nums1` and `nums2`, sorted in non-decreasing order, and two integers `m` and `n`, representing the number of elements in `nums1` and `nums2` respectively.\n",
    "\n",
    "Merge `nums1` and `nums2` into a single array sorted in non-decreasing order.\n",
    "\n",
    "The final sorted array should not be returned by the function, but instead be stored inside the array `nums1`. To accommodate this, `nums1` has a length of `m + n`, where the first `m` elements denote the elements that should be merged, and the last `n` elements are set to `0` and should be ignored. `nums2` has a length of `n`."
   ]
  },
  {
   "cell_type": "markdown",
   "metadata": {},
   "source": [
    "Constraints:\n",
    "\n",
    "* `nums1.length == m + n`  \n",
    "* `nums2.length == n`  \n",
    "* `0 <= m, n <= 200`  \n",
    "* `1 <= m + n <= 200`  \n",
    "* `-109 <= nums1[i], nums2[j] <= 109`  \n",
    "\n",
    "Follow up: Can you come up with an algorithm that runs in O(m + n) time?\n"
   ]
  },
  {
   "cell_type": "markdown",
   "metadata": {},
   "source": [
    "Example 1:\n",
    "\n",
    "> **Input**: nums1 = [1,2,3,0,0,0], m = 3, nums2 = [2,5,6], n = 3  \n",
    "**Output:** [1,2,2,3,5,6]  \n",
    "**Explanation:** The arrays we are merging are [1,2,3] and [2,5,6].  \n",
    "The result of the merge is [1,2,2,3,5,6] with the underlined elements coming from nums1.  \n",
    "\n",
    "Example 2:\n",
    "\n",
    "> **Input:** nums1 = [1], m = 1, nums2 = [], n = 0  \n",
    "**Output:** [1]  \n",
    "**Explanation:** The arrays we are merging are [1] and [].  \n",
    "The result of the merge is [1].\n",
    "\n",
    "Example 3:\n",
    "\n",
    "> **Input:** nums1 = [0], m = 0, nums2 = [1], n = 1  \n",
    "**Output:** [1]  \n",
    "**Explanation:** The arrays we are merging are [] and [1].  \n",
    "The result of the merge is [1].  \n",
    "Note that because m = 0, there are no elements in nums1. The 0 is only there to ensure the merge result can fit in nums1.\n"
   ]
  },
  {
   "cell_type": "code",
   "execution_count": 12,
   "metadata": {},
   "outputs": [
    {
     "data": {
      "text/plain": [
       "defaultdict(dict,\n",
       "            {'1': {'nums1': [1, 2, 3, 0, 0, 0],\n",
       "              'm': 3,\n",
       "              'nums2': [2, 5, 6],\n",
       "              'n': 3,\n",
       "              'expected_output': [1, 2, 2, 3, 5, 6]},\n",
       "             '2': {'nums1': [1],\n",
       "              'm': 1,\n",
       "              'nums2': [],\n",
       "              'n': 0,\n",
       "              'expected_output': [1]},\n",
       "             '3': {'nums1': [0],\n",
       "              'm': 0,\n",
       "              'nums2': [1],\n",
       "              'n': 1,\n",
       "              'expected_output': [1]}})"
      ]
     },
     "execution_count": 12,
     "metadata": {},
     "output_type": "execute_result"
    }
   ],
   "source": [
    "from typing import List\n",
    "\n",
    "from collections import defaultdict\n",
    "from copy import deepcopy\n",
    "\n",
    "cases = defaultdict(dict)\n",
    "\n",
    "cases[\"1\"][\"nums1\"] = [1,2,3,0,0,0]\n",
    "cases[\"1\"][\"m\"] = 3\n",
    "cases[\"1\"][\"nums2\"] = [2,5,6]\n",
    "cases[\"1\"][\"n\"] = 3\n",
    "cases[\"1\"][\"expected_output\"] = [1,2,2,3,5,6] \n",
    "\n",
    "cases[\"2\"][\"nums1\"] = [1]\n",
    "cases[\"2\"][\"m\"] = 1\n",
    "cases[\"2\"][\"nums2\"] = []\n",
    "cases[\"2\"][\"n\"] = 0\n",
    "cases[\"2\"][\"expected_output\"] = [1] \n",
    "\n",
    "cases[\"3\"][\"nums1\"] = [0]\n",
    "cases[\"3\"][\"m\"] = 0\n",
    "cases[\"3\"][\"nums2\"] = [1]\n",
    "cases[\"3\"][\"n\"] = 1\n",
    "cases[\"3\"][\"expected_output\"] = [1] \n",
    "\n",
    "cases"
   ]
  },
  {
   "cell_type": "markdown",
   "metadata": {},
   "source": [
    "**Solution_0 idea**  \n",
    "The idea of the Solution_0 is to make two pointers, iterate until index #0 in nums1.  \n",
    "Fix/crutch: to avoid negative indicies it is used ternary operator with assignment values to -10e10."
   ]
  },
  {
   "cell_type": "code",
   "execution_count": 13,
   "metadata": {},
   "outputs": [],
   "source": [
    "class Solution_0:\n",
    "    def merge(self, nums1: List[int], m: int, nums2: List[int], n: int) -> None:\n",
    "        \"\"\"\n",
    "        Do not return anything, modify nums1 in-place instead.\n",
    "        \"\"\"\n",
    "        nums1_length = len(nums1)\n",
    "        pointer_common, pointer_1, pointer_2 = nums1_length - 1, m - 1, n - 1\n",
    "        while pointer_common >= 0:\n",
    "            value_1 = nums1[pointer_1] if pointer_1 >= 0 else -10e10\n",
    "            value_2 = nums2[pointer_2] if pointer_2 >= 0 else -10e10\n",
    "            if value_1 >= value_2:\n",
    "                nums1[pointer_common] = value_1\n",
    "                pointer_1 -= 1\n",
    "            else:\n",
    "                nums1[pointer_common] = value_2\n",
    "                pointer_2 -= 1\n",
    "            pointer_common -= 1\n"
   ]
  },
  {
   "cell_type": "markdown",
   "metadata": {},
   "source": [
    "Solution_1 idea after exploring solutions on leetcode  \n",
    "1. Max iteration should be limited by n. It doesn't make sense to iterate nums1 without any changes.\n",
    "2. Ternary operator and negative pointer values can be avoided."
   ]
  },
  {
   "cell_type": "code",
   "execution_count": 14,
   "metadata": {},
   "outputs": [],
   "source": [
    "class Solution_1:\n",
    "    def merge(self, nums1: List[int], m: int, nums2: List[int], n: int) -> None:\n",
    "        \"\"\"\n",
    "        Do not return anything, modify nums1 in-place instead.\n",
    "        \"\"\"\n",
    "        pointer_writing, pointer_1, pointer_2 = m + n - 1, m - 1, n - 1\n",
    "        while pointer_2 >= 0:\n",
    "            if nums1[pointer_1] >= nums2[pointer_2] and pointer_1 >= 0:\n",
    "                nums1[pointer_writing] = nums1[pointer_1]\n",
    "                pointer_1 -= 1\n",
    "            else:\n",
    "                nums1[pointer_writing] = nums2[pointer_2]\n",
    "                pointer_2 -= 1\n",
    "            pointer_writing -= 1"
   ]
  },
  {
   "cell_type": "code",
   "execution_count": 15,
   "metadata": {},
   "outputs": [
    {
     "name": "stdout",
     "output_type": "stream",
     "text": [
      "case #1\n",
      "expected output: [1, 2, 2, 3, 5, 6]\n",
      "output for solution #0 [1, 2, 2, 3, 5, 6]\n",
      "output for solution #1 [1, 2, 2, 3, 5, 6]\n",
      "\n",
      "case #2\n",
      "expected output: [1]\n",
      "output for solution #0 [1]\n",
      "output for solution #1 [1]\n",
      "\n",
      "case #3\n",
      "expected output: [1]\n",
      "output for solution #0 [1]\n",
      "output for solution #1 [1]\n",
      "\n"
     ]
    }
   ],
   "source": [
    "solution_0 = Solution_0()\n",
    "solution_1 = Solution_1()\n",
    "\n",
    "for case_id, case in cases.items():\n",
    "    nums1 = case[\"nums1\"]\n",
    "    m = case[\"m\"]\n",
    "    nums2 = case[\"nums2\"]\n",
    "    n = case[\"n\"]\n",
    "    expected_output = case[\"expected_output\"]\n",
    "    \n",
    "    nums1_0 = deepcopy(nums1)\n",
    "    result_0 = solution_0.merge(nums1_0, m, nums2, n)\n",
    "    nums1_1 = deepcopy(nums1)\n",
    "    result_1 = solution_1.merge(nums1_1, m, nums2, n)\n",
    "\n",
    "    print(f\"case #{case_id}\")\n",
    "    print(f\"expected output: {expected_output}\")\n",
    "    print(f\"output for solution #0 {nums1_0}\")\n",
    "    print(f\"output for solution #1 {nums1_1}\")\n",
    "    print(f\"\")"
   ]
  }
 ],
 "metadata": {
  "kernelspec": {
   "display_name": ".venv",
   "language": "python",
   "name": "python3"
  },
  "language_info": {
   "codemirror_mode": {
    "name": "ipython",
    "version": 3
   },
   "file_extension": ".py",
   "mimetype": "text/x-python",
   "name": "python",
   "nbconvert_exporter": "python",
   "pygments_lexer": "ipython3",
   "version": "3.10.12"
  }
 },
 "nbformat": 4,
 "nbformat_minor": 2
}
