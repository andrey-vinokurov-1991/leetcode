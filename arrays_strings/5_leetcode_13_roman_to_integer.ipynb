{
 "cells": [
  {
   "cell_type": "markdown",
   "metadata": {},
   "source": [
    "Roman numerals are represented by seven different symbols: `I`, `V`, `X`, `L`, `C`, `D` and `M`.\n",
    "\n",
    "> Symbol $~~$ Value  \n",
    "I $~~~~~~~~~~~~$ 1  \n",
    "V $~~~~~~~~~~~$ 5  \n",
    "X $~~~~~~~~~~~$ 10  \n",
    "L $~~~~~~~~~~~$ 50  \n",
    "C $~~~~~~~~~~~$ 100  \n",
    "D $~~~~~~~~~~~$ 500  \n",
    "M $~~~~~~~~~~$ 1000  \n",
    "\n",
    "For example, `2` is written as `II` in Roman numeral, just two ones added together. `12` is written as `XII`, which is simply `X + II`. The number `27` is written as `XXVII`, which is `XX + V + II`.\n",
    "\n",
    "Roman numerals are usually written largest to smallest from left to right. However, the numeral for four is not `IIII`. Instead, the number four is written as `IV`. Because the one is before the five we subtract it making four. The same principle applies to the number nine, which is written as `IX`. There are six instances where subtraction is used:\n",
    "\n",
    "* `I` can be placed before `V` (5) and `X` (10) to make 4 and 9. \n",
    "* `X` can be placed before `L` (50) and `C` (100) to make 40 and 90. \n",
    "* `C` can be placed before `D` (500) and `M` (1000) to make 400 and 900.  \n",
    "\n",
    "Given a roman numeral, convert it to an integer.\n",
    "\n",
    "**Constraints:**\n",
    "\n",
    "* `1 <= s.length <= 15`\n",
    "* `s` contains only the characters `('I', 'V', 'X', 'L', 'C', 'D', 'M')`.\n",
    "* It is guaranteed that `s` is a valid roman numeral in the range `[1, 3999]`.\n",
    "\n",
    "\n"
   ]
  },
  {
   "cell_type": "markdown",
   "metadata": {},
   "source": [
    "**Example 1:**  \n",
    "> **Input:** s = \"III\"  \n",
    "**Output:** 3  \n",
    "**Explanation:** III = 3.  \n",
    "\n",
    "**Example 2:**  \n",
    "> **Input:** s = \"LVIII\"  \n",
    "**Output:** 58  \n",
    "**Explanation:** L = 50, V= 5, III = 3.  \n",
    "\n",
    "**Example 3:**  \n",
    "> **Input:** s = \"MCMXCIV\"  \n",
    "**Output:** 1994  \n",
    "**Explanation:** M = 1000, CM = 900, XC = 90 and IV = 4."
   ]
  },
  {
   "cell_type": "code",
   "execution_count": 7,
   "metadata": {},
   "outputs": [
    {
     "data": {
      "text/plain": [
       "defaultdict(dict,\n",
       "            {'1': {'input_s': 'III', 'expected_output': 3},\n",
       "             '2': {'input_s': 'LVIII', 'expected_output': 58},\n",
       "             '3': {'input_s': 'MCMXCIV', 'expected_output': 1994}})"
      ]
     },
     "execution_count": 7,
     "metadata": {},
     "output_type": "execute_result"
    }
   ],
   "source": [
    "from collections import defaultdict\n",
    "from copy import deepcopy\n",
    "\n",
    "cases = defaultdict(dict)\n",
    "\n",
    "cases[\"1\"][\"input_s\"] = \"III\"\n",
    "cases[\"1\"][\"expected_output\"] = 3\n",
    "\n",
    "cases[\"2\"][\"input_s\"] = \"LVIII\"\n",
    "cases[\"2\"][\"expected_output\"] = 58\n",
    "\n",
    "cases[\"3\"][\"input_s\"] = \"MCMXCIV\"\n",
    "cases[\"3\"][\"expected_output\"] = 1994\n",
    "\n",
    "cases"
   ]
  },
  {
   "cell_type": "markdown",
   "metadata": {},
   "source": [
    "**Solution_0 idea**  \n",
    "Just to sum all the letters whithout 4, 9, 40, 90, 400, 900 and so on.\n",
    "What I should do for these tricky cases?\n",
    "I can start sum it from the end of the string and if I see some letter that is smaller than before I can subtract it."
   ]
  },
  {
   "cell_type": "code",
   "execution_count": 8,
   "metadata": {},
   "outputs": [],
   "source": [
    "class Solution_0:\n",
    "    def romanToInt(self, s: str) -> int:\n",
    "        symbol_to_value = dict(\n",
    "            I=1,\n",
    "            V=5,\n",
    "            X=10,\n",
    "            L=50,\n",
    "            C=100,\n",
    "            D=500,\n",
    "            M=1000\n",
    "        )\n",
    "        max_value = 0\n",
    "        result = 0\n",
    "        for sym in reversed(s):\n",
    "            value = symbol_to_value[sym]\n",
    "            if value > max_value:\n",
    "                max_value = value\n",
    "                result += value\n",
    "            elif value == max_value:\n",
    "                result += value\n",
    "            else:\n",
    "                result -= value\n",
    "        return result"
   ]
  },
  {
   "cell_type": "code",
   "execution_count": 9,
   "metadata": {},
   "outputs": [
    {
     "name": "stdout",
     "output_type": "stream",
     "text": [
      "case #1\n",
      "input s: III\n",
      "expected output: 3\n",
      "output for solution #0: 3\n",
      "\n",
      "case #2\n",
      "input s: LVIII\n",
      "expected output: 58\n",
      "output for solution #0: 58\n",
      "\n",
      "case #3\n",
      "input s: MCMXCIV\n",
      "expected output: 1994\n",
      "output for solution #0: 1994\n",
      "\n"
     ]
    }
   ],
   "source": [
    "solution_0 = Solution_0()\n",
    "\n",
    "for case_id, case in cases.items():\n",
    "    input_s = case[\"input_s\"]\n",
    "    expected_output = case[\"expected_output\"]\n",
    "\n",
    "    input_s_0 = deepcopy(input_s)\n",
    "    result_0 = solution_0.romanToInt(input_s_0)\n",
    "\n",
    "    print(f\"case #{case_id}\")\n",
    "    print(f\"input s: {input_s}\")\n",
    "    print(f\"expected output: {expected_output}\")\n",
    "    print(f\"output for solution #0: {result_0}\")\n",
    "    \n",
    "    print(f\"\")"
   ]
  }
 ],
 "metadata": {
  "kernelspec": {
   "display_name": ".venv",
   "language": "python",
   "name": "python3"
  },
  "language_info": {
   "codemirror_mode": {
    "name": "ipython",
    "version": 3
   },
   "file_extension": ".py",
   "mimetype": "text/x-python",
   "name": "python",
   "nbconvert_exporter": "python",
   "pygments_lexer": "ipython3",
   "version": "3.10.12"
  }
 },
 "nbformat": 4,
 "nbformat_minor": 2
}
