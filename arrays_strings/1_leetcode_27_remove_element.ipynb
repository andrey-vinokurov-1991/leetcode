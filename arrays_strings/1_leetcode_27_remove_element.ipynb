{
 "cells": [
  {
   "cell_type": "markdown",
   "metadata": {},
   "source": [
    "Given an integer array `nums` and an integer `val`, remove all occurrences of `val` in `nums` in-place. The order of the elements may be changed. Then return the number of elements in `nums` which are not equal to `val`.\n",
    "\n",
    "Consider the number of elements in `nums` which are not equal to `val` be `k`, to get accepted, you need to do the following things:\n",
    "\n",
    "Change the array `nums` such that the first `k` elements of `nums` contain the elements which are not equal to `val`. The remaining elements of `nums` are not important as well as the size of `nums`.\n",
    "Return `k`.\n",
    "Custom Judge:\n",
    "\n",
    "The judge will test your solution with the following code:\n",
    "\n",
    "\n",
    "> int[] nums = [...]; // Input array  \n",
    "int val = ...; // Value to remove  \n",
    "int[] expectedNums = [...]; // The expected answer with correct length.  \n",
    "                            // It is sorted with no values equaling val.  \n",
    ">\n",
    "> int k = removeElement(nums, val); // Calls your implementation  \n",
    ">\n",
    "> assert k == expectedNums.length;  \n",
    "sort(nums, 0, k); // Sort the first k elements of nums  \n",
    "for (int i = 0; i < actualLength; i++) {  \n",
    "    assert nums[i] == expectedNums[i];  \n",
    "}  \n",
    "\n",
    "\n",
    "If all assertions pass, then your solution will be accepted.\n",
    "  \n",
    "  \n",
    "**Constraints:**  \n",
    "\n",
    "* `0 <= nums.length <= 100`\n",
    "* `0 <= nums[i] <= 50`\n",
    "* `0 <= val <= 100`\n",
    "\n",
    "\n"
   ]
  },
  {
   "cell_type": "markdown",
   "metadata": {},
   "source": [
    "**Example 1:**\n",
    "\n",
    "> **Input:** nums = [3,2,2,3], val = 3  \n",
    "**Output:** 2, nums = [2,2, _ , _ ]  \n",
    "**Explanation:** Your function should return k = 2, with the first two elements of nums being 2.  \n",
    "It does not matter what you leave beyond the returned k (hence they are underscores).  \n",
    "\n",
    "**Example 2:**\n",
    "> **Input:** nums = [0,1,2,2,3,0,4,2], val = 2  \n",
    "**Output:** 5, nums = [0,1,4,0,3, _ , _ , _ ]  \n",
    "**Explanation:** Your function should return k = 5, with the first five elements of nums containing 0, 0, 1, 3, and 4.  \n",
    "Note that the five elements can be returned in any order.  \n",
    "It does not matter what you leave beyond the returned k (hence they are underscores).\n"
   ]
  },
  {
   "cell_type": "code",
   "execution_count": 26,
   "metadata": {},
   "outputs": [
    {
     "data": {
      "text/plain": [
       "defaultdict(dict,\n",
       "            {'1': {'nums': [3, 2, 2, 3],\n",
       "              'val': 3,\n",
       "              'expected_output_nums': [2, 2, -100000000000.0, -100000000000.0],\n",
       "              'expected_output_k': 2},\n",
       "             '2': {'nums': [0, 1, 2, 2, 3, 0, 4, 2],\n",
       "              'val': 2,\n",
       "              'expected_output_nums': [0,\n",
       "               1,\n",
       "               4,\n",
       "               0,\n",
       "               3,\n",
       "               -100000000000.0,\n",
       "               -100000000000.0,\n",
       "               -100000000000.0],\n",
       "              'expected_output_k': 5}})"
      ]
     },
     "execution_count": 26,
     "metadata": {},
     "output_type": "execute_result"
    }
   ],
   "source": [
    "from typing import List\n",
    "\n",
    "from collections import defaultdict\n",
    "from copy import deepcopy\n",
    "\n",
    "cases = defaultdict(dict)\n",
    "_ = -10e10\n",
    "\n",
    "cases[\"1\"][\"nums\"] = [3,2,2,3]\n",
    "cases[\"1\"][\"val\"] = 3\n",
    "cases[\"1\"][\"expected_output_nums\"] = [2,2,_,_]\n",
    "cases[\"1\"][\"expected_output_k\"] = 2 \n",
    "\n",
    "\n",
    "cases[\"2\"][\"nums\"] = [0,1,2,2,3,0,4,2]\n",
    "cases[\"2\"][\"val\"] = 2\n",
    "cases[\"2\"][\"expected_output_nums\"] = [0,1,4,0,3,_,_,_] \n",
    "cases[\"2\"][\"expected_output_k\"] = 5\n",
    "\n",
    "cases"
   ]
  },
  {
   "cell_type": "code",
   "execution_count": 27,
   "metadata": {},
   "outputs": [],
   "source": [
    "def judge(expected_nums, nums, expected_k, k):\n",
    "    assert k == expected_k \n",
    "    nums_k_sorted = sorted(nums[:k])\n",
    "    expected_nums_k_sorted = sorted(nums[:k])\n",
    "    assert nums_k_sorted == expected_nums_k_sorted\n",
    "    return True"
   ]
  },
  {
   "cell_type": "markdown",
   "metadata": {},
   "source": [
    "**Solution_0 idea**  \n",
    "It is not nessassary to keep the order of values. So we can move all occurrences to right part of the `nums` using left_pointer and right_pointer."
   ]
  },
  {
   "cell_type": "code",
   "execution_count": 28,
   "metadata": {},
   "outputs": [],
   "source": [
    "class Solution_0:\n",
    "    def removeElement(self, nums: List[int], val: int) -> int:\n",
    "        len_nums = len(nums)\n",
    "        if not len_nums:\n",
    "            return 0\n",
    "\n",
    "        left_pointer, right_pointer = 0, len_nums - 1\n",
    "        k = len(nums)\n",
    "\n",
    "        while left_pointer <= right_pointer:\n",
    "            left_value, right_value = nums[left_pointer], nums[right_pointer]\n",
    "            if left_value == val:\n",
    "                if right_value == val:\n",
    "                    right_pointer -= 1\n",
    "                    k -= 1\n",
    "                else:\n",
    "                    nums[left_pointer], nums[right_pointer] = right_value, left_value\n",
    "                    left_pointer += 1\n",
    "                    right_pointer -= 1\n",
    "                    k -= 1\n",
    "            else:\n",
    "                left_pointer += 1\n",
    "        return k"
   ]
  },
  {
   "cell_type": "markdown",
   "metadata": {},
   "source": [
    "**Solution_1 idea after exploring solutions on leetcode**  \n",
    "There is another way to solve the same problem keeping the order. Using two pointers we move all the remaining elements (not occurrences) to left."
   ]
  },
  {
   "cell_type": "code",
   "execution_count": 29,
   "metadata": {},
   "outputs": [],
   "source": [
    "class Solution_1:\n",
    "    def removeElement(self, nums: List[int], val: int) -> int:\n",
    "        k = 0\n",
    "        \n",
    "        for i in nums:\n",
    "            if i != val:\n",
    "                nums[k] = i\n",
    "                k += 1\n",
    "        \n",
    "        return k"
   ]
  },
  {
   "cell_type": "code",
   "execution_count": 30,
   "metadata": {},
   "outputs": [
    {
     "name": "stdout",
     "output_type": "stream",
     "text": [
      "case #1\n",
      "expected output nums: [2, 2, -100000000000.0, -100000000000.0]\n",
      "expected output k: 2\n",
      "output nums for solution #0: [2, 2, 3, 3]\n",
      "output k for solution #0: 2\n",
      "output nums for solution #1: [2, 2, 2, 3]\n",
      "output k for solution #1: 2\n",
      "judge passed for solution #0: True\n",
      "judge passed for solution #1: True\n",
      "\n",
      "case #2\n",
      "expected output nums: [0, 1, 4, 0, 3, -100000000000.0, -100000000000.0, -100000000000.0]\n",
      "expected output k: 5\n",
      "output nums for solution #0: [0, 1, 4, 0, 3, 2, 2, 2]\n",
      "output k for solution #0: 5\n",
      "output nums for solution #1: [0, 1, 3, 0, 4, 0, 4, 2]\n",
      "output k for solution #1: 5\n",
      "judge passed for solution #0: True\n",
      "judge passed for solution #1: True\n",
      "\n"
     ]
    }
   ],
   "source": [
    "solution_0 = Solution_0()\n",
    "solution_1 = Solution_1()\n",
    "\n",
    "\n",
    "for case_id, case in cases.items():\n",
    "    nums = case[\"nums\"]\n",
    "    val = case[\"val\"]\n",
    "    expected_output_nums = case[\"expected_output_nums\"]\n",
    "    expected_output_k = case[\"expected_output_k\"]\n",
    "\n",
    "    nums_0 = deepcopy(nums)\n",
    "    result_0 = solution_0.removeElement(nums_0, val)\n",
    "    nums_1 = deepcopy(nums)\n",
    "    result_1 = solution_1.removeElement(nums_1, val)\n",
    "\n",
    "    print(f\"case #{case_id}\")\n",
    "    print(f\"expected output nums: {expected_output_nums}\")\n",
    "    print(f\"expected output k: {expected_output_k}\")\n",
    "    print(f\"output nums for solution #0: {nums_0}\")\n",
    "    print(f\"output k for solution #0: {result_0}\")\n",
    "    print(f\"output nums for solution #1: {nums_1}\")\n",
    "    print(f\"output k for solution #1: {result_1}\")\n",
    "\n",
    "    print(f\"judge passed for solution #0: {judge(expected_output_nums, nums_0, expected_output_k, result_0)}\")\n",
    "    print(f\"judge passed for solution #1: {judge(expected_output_nums, nums_1, expected_output_k, result_1)}\")\n",
    "    \n",
    "    print(f\"\")"
   ]
  }
 ],
 "metadata": {
  "kernelspec": {
   "display_name": ".venv",
   "language": "python",
   "name": "python3"
  },
  "language_info": {
   "codemirror_mode": {
    "name": "ipython",
    "version": 3
   },
   "file_extension": ".py",
   "mimetype": "text/x-python",
   "name": "python",
   "nbconvert_exporter": "python",
   "pygments_lexer": "ipython3",
   "version": "3.10.12"
  }
 },
 "nbformat": 4,
 "nbformat_minor": 2
}
