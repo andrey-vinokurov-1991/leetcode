{
 "cells": [
  {
   "cell_type": "markdown",
   "metadata": {},
   "source": [
    "You are given an array `prices` where `prices[i]` is the price of a given stock on the `i`<sup>`th`</sup> day.\n",
    "\n",
    "You want to maximize your profit by choosing a **single day** to buy one stock and choosing a **different day in the future** to sell that stock.\n",
    "\n",
    "Return the *maximum profit you can achieve from this transaction*. If you cannot achieve any profit, return `0`.\n",
    "\n",
    "**Constraints:**\n",
    "\n",
    "* `1 <= prices.length <= 105`\n",
    "* `0 <= prices[i] <= 104`"
   ]
  },
  {
   "cell_type": "markdown",
   "metadata": {},
   "source": [
    "**Example 1:**\n",
    "\n",
    "> **Input:** prices = [7,1,5,3,6,4]  \n",
    "**Output:** 5  \n",
    "**Explanation:** Buy on day 2 (price = 1) and sell on day 5 (price = 6), profit = 6-1 = 5.  \n",
    "Note that buying on day 2 and selling on day 1 is not allowed because you must buy before you sell.\n",
    "\n",
    "**Example 2:**\n",
    "> **Input:** prices = [7,6,4,3,1]  \n",
    "**Output:** 0  \n",
    "**Explanation:** In this case, no transactions are done and the max profit = 0."
   ]
  },
  {
   "cell_type": "code",
   "execution_count": 11,
   "metadata": {},
   "outputs": [
    {
     "data": {
      "text/plain": [
       "defaultdict(dict,\n",
       "            {'1': {'prices': [7, 1, 5, 3, 6, 4], 'expected_output': 5},\n",
       "             '2': {'prices': [7, 6, 4, 3, 1], 'expected_output': 0}})"
      ]
     },
     "execution_count": 11,
     "metadata": {},
     "output_type": "execute_result"
    }
   ],
   "source": [
    "from typing import List\n",
    "\n",
    "from collections import defaultdict\n",
    "from copy import deepcopy\n",
    "\n",
    "cases = defaultdict(dict)\n",
    "\n",
    "cases[\"1\"][\"prices\"] = [7,1,5,3,6,4]\n",
    "cases[\"1\"][\"expected_output\"] = 5\n",
    "\n",
    "cases[\"2\"][\"prices\"] = [7,6,4,3,1]\n",
    "cases[\"2\"][\"expected_output\"] = 0\n",
    "\n",
    "cases"
   ]
  },
  {
   "cell_type": "markdown",
   "metadata": {},
   "source": [
    "**Solution_0 idea**  \n",
    "Draw prices as columns on the plot and see the picture.  \n",
    "Keep min_price and max_profit while iterating. "
   ]
  },
  {
   "cell_type": "code",
   "execution_count": 12,
   "metadata": {},
   "outputs": [],
   "source": [
    "class Solution_0:\n",
    "    def maxProfit(self, prices: List[int]) -> int:\n",
    "        min_price, max_profit = prices[0], 0\n",
    "        for price in prices:\n",
    "            if price < min_price:\n",
    "                min_price = price\n",
    "            elif price > min_price:\n",
    "                profit = price - min_price\n",
    "                if profit > max_profit:\n",
    "                    max_profit = profit\n",
    "            else:\n",
    "                pass\n",
    "        return max_profit"
   ]
  },
  {
   "cell_type": "code",
   "execution_count": 13,
   "metadata": {},
   "outputs": [
    {
     "name": "stdout",
     "output_type": "stream",
     "text": [
      "case #1\n",
      "prices: [7, 1, 5, 3, 6, 4]\n",
      "expected output: 5\n",
      "output for solution #0: 5\n",
      "\n",
      "case #2\n",
      "prices: [7, 6, 4, 3, 1]\n",
      "expected output: 0\n",
      "output for solution #0: 0\n",
      "\n"
     ]
    }
   ],
   "source": [
    "solution_0 = Solution_0()\n",
    "\n",
    "for case_id, case in cases.items():\n",
    "    prices = case[\"prices\"]\n",
    "    expected_output = case[\"expected_output\"]\n",
    "\n",
    "    prices_0 = deepcopy(prices)\n",
    "    result_0 = solution_0.maxProfit(prices_0)\n",
    "\n",
    "    print(f\"case #{case_id}\")\n",
    "    print(f\"prices: {prices}\")\n",
    "    print(f\"expected output: {expected_output}\")\n",
    "    print(f\"output for solution #0: {result_0}\")\n",
    "    \n",
    "    print(f\"\")"
   ]
  }
 ],
 "metadata": {
  "kernelspec": {
   "display_name": ".venv",
   "language": "python",
   "name": "python3"
  },
  "language_info": {
   "codemirror_mode": {
    "name": "ipython",
    "version": 3
   },
   "file_extension": ".py",
   "mimetype": "text/x-python",
   "name": "python",
   "nbconvert_exporter": "python",
   "pygments_lexer": "ipython3",
   "version": "3.10.12"
  }
 },
 "nbformat": 4,
 "nbformat_minor": 2
}
