{
 "cells": [
  {
   "cell_type": "markdown",
   "metadata": {},
   "source": [
    "Given two strings `needle` and `haystack`, return the index of the first occurrence of `needle` in `haystack`, or `-1` if `needle` is not part of `haystack`.\n",
    "\n",
    "**Constraints:**\n",
    "* `1 <= haystack.length, needle.length <= 104`\n",
    "* `haystack` and `needle` consist of only lowercase English characters."
   ]
  },
  {
   "cell_type": "markdown",
   "metadata": {},
   "source": [
    "**Example 1:**\n",
    "> **Input:** haystack = \"sadbutsad\", needle = \"sad\"\n",
    "**Output:** 0\n",
    "**Explanation:** \"sad\" occurs at index 0 and 6.\n",
    "The first occurrence is at index 0, so we return 0.\n",
    "\n",
    "**Example 2:**\n",
    "> **Input:** haystack = \"leetcode\", needle = \"leeto\"\n",
    "**Output:** -1\n",
    "**Explanation:** \"leeto\" did not occur in \"leetcode\", so we return -1.\n"
   ]
  },
  {
   "cell_type": "code",
   "execution_count": 5,
   "metadata": {},
   "outputs": [
    {
     "data": {
      "text/plain": [
       "defaultdict(dict,\n",
       "            {'1': {'haystack': 'sadbutsad',\n",
       "              'needle': 'sad',\n",
       "              'expected_output': 0},\n",
       "             '2': {'haystack': 'leetcode',\n",
       "              'needle': 'leeto',\n",
       "              'expected_output': -1}})"
      ]
     },
     "execution_count": 5,
     "metadata": {},
     "output_type": "execute_result"
    }
   ],
   "source": [
    "from typing import List\n",
    "\n",
    "from collections import defaultdict\n",
    "from copy import deepcopy\n",
    "\n",
    "cases = defaultdict(dict)\n",
    "\n",
    "cases[\"1\"][\"haystack\"] = \"sadbutsad\"\n",
    "cases[\"1\"][\"needle\"] = \"sad\" \n",
    "cases[\"1\"][\"expected_output\"] = 0\n",
    "\n",
    "cases[\"2\"][\"haystack\"] = \"leetcode\"\n",
    "cases[\"2\"][\"needle\"] = \"leeto\" \n",
    "cases[\"2\"][\"expected_output\"] = -1\n",
    "cases"
   ]
  },
  {
   "cell_type": "markdown",
   "metadata": {},
   "source": [
    "**Solution_0 idea**  \n",
    "To use the method \"finf\" for strings in Python."
   ]
  },
  {
   "cell_type": "code",
   "execution_count": 6,
   "metadata": {},
   "outputs": [],
   "source": [
    "class Solution_0:\n",
    "    def strStr(self, haystack: str, needle: str) -> int:\n",
    "        return haystack.find(needle)"
   ]
  },
  {
   "cell_type": "markdown",
   "metadata": {},
   "source": [
    "**Solution_1 idea**  \n",
    "Using sliding window or using two pointers (slow and fast) compare haystack and needle."
   ]
  },
  {
   "cell_type": "code",
   "execution_count": 7,
   "metadata": {},
   "outputs": [],
   "source": [
    "class Solution_1:\n",
    "    def strStr(self, haystack: str, needle: str) -> int:\n",
    "        len_haystack, len_needle = len(haystack), len(needle)\n",
    "        for i in range(len_haystack - len_needle + 1):\n",
    "            if needle == haystack[i:i+len_needle]:\n",
    "                return i\n",
    "        return -1"
   ]
  },
  {
   "cell_type": "code",
   "execution_count": 8,
   "metadata": {},
   "outputs": [
    {
     "name": "stdout",
     "output_type": "stream",
     "text": [
      "case #1\n",
      "haystack: sadbutsad\n",
      "needle: sad\n",
      "expected output: 0\n",
      "output for solution #0: 0\n",
      "output for solution #1: 0\n",
      "\n",
      "case #2\n",
      "haystack: leetcode\n",
      "needle: leeto\n",
      "expected output: -1\n",
      "output for solution #0: -1\n",
      "output for solution #1: -1\n",
      "\n"
     ]
    }
   ],
   "source": [
    "solution_0 = Solution_0()\n",
    "solution_1 = Solution_1()\n",
    "\n",
    "for case_id, case in cases.items():\n",
    "    haystack = case[\"haystack\"]\n",
    "    needle = case[\"needle\"]\n",
    "    expected_output = case[\"expected_output\"]\n",
    "    \n",
    "    result_0 = solution_0.strStr(haystack, needle)\n",
    "    result_1 = solution_1.strStr(haystack, needle)\n",
    "\n",
    "\n",
    "    print(f\"case #{case_id}\")\n",
    "    print(f\"haystack: {haystack}\")\n",
    "    print(f\"needle: {needle}\")\n",
    "    print(f\"expected output: {expected_output}\")\n",
    "    print(f\"output for solution #0: {result_0}\")\n",
    "    print(f\"output for solution #1: {result_1}\")\n",
    "\n",
    "    \n",
    "    print(f\"\")"
   ]
  }
 ],
 "metadata": {
  "kernelspec": {
   "display_name": ".venv",
   "language": "python",
   "name": "python3"
  },
  "language_info": {
   "codemirror_mode": {
    "name": "ipython",
    "version": 3
   },
   "file_extension": ".py",
   "mimetype": "text/x-python",
   "name": "python",
   "nbconvert_exporter": "python",
   "pygments_lexer": "ipython3",
   "version": "3.10.12"
  }
 },
 "nbformat": 4,
 "nbformat_minor": 2
}
