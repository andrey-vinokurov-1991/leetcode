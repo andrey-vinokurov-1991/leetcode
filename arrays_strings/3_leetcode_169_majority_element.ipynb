{
 "cells": [
  {
   "cell_type": "markdown",
   "metadata": {},
   "source": [
    "Given an array `nums` of size `n`, return *the majority element*.\n",
    "\n",
    "The majority element is the element that appears more than `⌊n / 2⌋` times. You may assume that the majority element always exists in the array.\n",
    "\n",
    "Constraints:\n",
    "\n",
    "* `n == nums.length`\n",
    "* `1 <= n <= 5 * 104`\n",
    "* `-109 <= nums[i] <= 109`"
   ]
  },
  {
   "cell_type": "markdown",
   "metadata": {},
   "source": [
    "**Example 1:**\n",
    "> Input: nums = [3,2,3]  \n",
    "Output: 3\n",
    "\n",
    "**Example 2:**\n",
    "> Input: nums = [2,2,1,1,1,2,2]  \n",
    "Output: 2"
   ]
  },
  {
   "cell_type": "code",
   "execution_count": 8,
   "metadata": {},
   "outputs": [
    {
     "data": {
      "text/plain": [
       "defaultdict(dict,\n",
       "            {'1': {'nums': [3, 2, 3], 'expected_output': 3},\n",
       "             '2': {'nums': [2, 2, 1, 1, 1, 2, 2], 'expected_output': 2}})"
      ]
     },
     "execution_count": 8,
     "metadata": {},
     "output_type": "execute_result"
    }
   ],
   "source": [
    "from typing import List\n",
    "\n",
    "from collections import defaultdict\n",
    "from copy import deepcopy\n",
    "\n",
    "cases = defaultdict(dict)\n",
    "\n",
    "cases[\"1\"][\"nums\"] = [3,2,3]\n",
    "cases[\"1\"][\"expected_output\"] = 3\n",
    "\n",
    "cases[\"2\"][\"nums\"] = [2,2,1,1,1,2,2]\n",
    "cases[\"2\"][\"expected_output\"] = 2\n",
    "\n",
    "cases"
   ]
  },
  {
   "cell_type": "markdown",
   "metadata": {},
   "source": [
    "**Solution_0 idea**  \n",
    "The idea is to use hashmap to find out the majority element."
   ]
  },
  {
   "cell_type": "code",
   "execution_count": 9,
   "metadata": {},
   "outputs": [],
   "source": [
    "from collections import Counter\n",
    "\n",
    "class Solution_0:\n",
    "    def majorityElement(self, nums: List[int]) -> int:\n",
    "        counter = Counter(nums)\n",
    "        return counter.most_common(1)[0][0]"
   ]
  },
  {
   "cell_type": "code",
   "execution_count": 10,
   "metadata": {},
   "outputs": [
    {
     "name": "stdout",
     "output_type": "stream",
     "text": [
      "case #1\n",
      "expected output: 3\n",
      "output for solution #0: 3\n",
      "\n",
      "case #2\n",
      "expected output: 2\n",
      "output for solution #0: 2\n",
      "\n"
     ]
    }
   ],
   "source": [
    "solution_0 = Solution_0()\n",
    "\n",
    "for case_id, case in cases.items():\n",
    "    nums = case[\"nums\"]\n",
    "    expected_output = case[\"expected_output\"]\n",
    "\n",
    "    nums_0 = deepcopy(nums)\n",
    "    result_0 = solution_0.majorityElement(nums_0)\n",
    "\n",
    "    print(f\"case #{case_id}\")\n",
    "    print(f\"expected output: {expected_output}\")\n",
    "    print(f\"output for solution #0: {result_0}\")\n",
    "    \n",
    "    print(f\"\")"
   ]
  }
 ],
 "metadata": {
  "kernelspec": {
   "display_name": ".venv",
   "language": "python",
   "name": "python3"
  },
  "language_info": {
   "codemirror_mode": {
    "name": "ipython",
    "version": 3
   },
   "file_extension": ".py",
   "mimetype": "text/x-python",
   "name": "python",
   "nbconvert_exporter": "python",
   "pygments_lexer": "ipython3",
   "version": "3.10.12"
  }
 },
 "nbformat": 4,
 "nbformat_minor": 2
}
